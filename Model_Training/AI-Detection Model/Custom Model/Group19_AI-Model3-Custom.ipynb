{
 "cells": [
  {
   "cell_type": "markdown",
   "metadata": {},
   "source": [
    "### GROUP 19 - AI-Detection Content Modeling Phase (Custom Model)\n",
    "NOTE: The custom model is better for essay types of contents even if I added Reddit data along the mix and it took almost 30-60 mins to train the model, so I recommend using the Hugging Face models for more accurate outputs -- Dee\n",
    "\n",
    "Source Code: https://www.kaggle.com/code/syedali110/ai-generated-vs-human-text-95-accuracy/notebook\n",
    "\n",
    "Source AI-Human Dataset: https://www.kaggle.com/datasets/shanegerami/ai-vs-human-text\n",
    "\n",
    "Source Reddit Dataset: https://www.kaggle.com/datasets/cosmos98/twitter-and-reddit-sentimental-analysis-dataset"
   ]
  },
  {
   "cell_type": "code",
   "execution_count": 1,
   "metadata": {},
   "outputs": [],
   "source": [
    "import pandas as pd\n",
    "import numpy as np\n",
    "import seaborn as sns\n",
    "import gdown\n",
    "from sklearn.utils import resample"
   ]
  },
  {
   "cell_type": "code",
   "execution_count": 2,
   "metadata": {},
   "outputs": [],
   "source": [
    "# Google Drive file ID\n",
    "# file_id = \"1VD5PVTZDCo6QO7y11Gfel2gKMqo14MDN\"\n",
    "\n",
    "# Destination file path (change if needed)\n",
    "# output_file = \"AI_Human.csv\"\n",
    "\n",
    "# Download the file\n",
    "# gdown.download(f\"https://drive.google.com/uc?id={file_id}\", output_file, quiet=False)\n",
    "\n",
    "# print(\"Download completed!\")"
   ]
  },
  {
   "cell_type": "code",
   "execution_count": 3,
   "metadata": {},
   "outputs": [
    {
     "data": {
      "text/html": [
       "<div>\n",
       "<style scoped>\n",
       "    .dataframe tbody tr th:only-of-type {\n",
       "        vertical-align: middle;\n",
       "    }\n",
       "\n",
       "    .dataframe tbody tr th {\n",
       "        vertical-align: top;\n",
       "    }\n",
       "\n",
       "    .dataframe thead th {\n",
       "        text-align: right;\n",
       "    }\n",
       "</style>\n",
       "<table border=\"1\" class=\"dataframe\">\n",
       "  <thead>\n",
       "    <tr style=\"text-align: right;\">\n",
       "      <th></th>\n",
       "      <th>text</th>\n",
       "      <th>true_label</th>\n",
       "    </tr>\n",
       "  </thead>\n",
       "  <tbody>\n",
       "    <tr>\n",
       "      <th>0</th>\n",
       "      <td>do curfews keep teenagers from getting into tr...</td>\n",
       "      <td>0.0</td>\n",
       "    </tr>\n",
       "    <tr>\n",
       "      <th>1</th>\n",
       "      <td>in this article the challenge of exploring ven...</td>\n",
       "      <td>0.0</td>\n",
       "    </tr>\n",
       "    <tr>\n",
       "      <th>2</th>\n",
       "      <td>with thp rapid growth of thp internet in recen...</td>\n",
       "      <td>0.0</td>\n",
       "    </tr>\n",
       "    <tr>\n",
       "      <th>3</th>\n",
       "      <td>the electoral college is the way us united sta...</td>\n",
       "      <td>0.0</td>\n",
       "    </tr>\n",
       "    <tr>\n",
       "      <th>4</th>\n",
       "      <td>this technology of you can calculate the emoti...</td>\n",
       "      <td>0.0</td>\n",
       "    </tr>\n",
       "  </tbody>\n",
       "</table>\n",
       "</div>"
      ],
      "text/plain": [
       "                                                text  true_label\n",
       "0  do curfews keep teenagers from getting into tr...         0.0\n",
       "1  in this article the challenge of exploring ven...         0.0\n",
       "2  with thp rapid growth of thp internet in recen...         0.0\n",
       "3  the electoral college is the way us united sta...         0.0\n",
       "4  this technology of you can calculate the emoti...         0.0"
      ]
     },
     "execution_count": 3,
     "metadata": {},
     "output_type": "execute_result"
    }
   ],
   "source": [
    "# Read the CSV file\n",
    "df = pd.read_csv(\"AI_Human_Balanced.csv\")\n",
    "\n",
    "# Display first few rows\n",
    "df.head()"
   ]
  },
  {
   "cell_type": "markdown",
   "metadata": {},
   "source": [
    "## **1. Data Information**"
   ]
  },
  {
   "cell_type": "code",
   "execution_count": 4,
   "metadata": {},
   "outputs": [
    {
     "name": "stdout",
     "output_type": "stream",
     "text": [
      "<class 'pandas.core.frame.DataFrame'>\n",
      "RangeIndex: 362876 entries, 0 to 362875\n",
      "Data columns (total 2 columns):\n",
      " #   Column      Non-Null Count   Dtype  \n",
      "---  ------      --------------   -----  \n",
      " 0   text        362871 non-null  object \n",
      " 1   true_label  362876 non-null  float64\n",
      "dtypes: float64(1), object(1)\n",
      "memory usage: 5.5+ MB\n"
     ]
    }
   ],
   "source": [
    "df.info()"
   ]
  },
  {
   "cell_type": "code",
   "execution_count": 5,
   "metadata": {},
   "outputs": [
    {
     "data": {
      "text/html": [
       "<div>\n",
       "<style scoped>\n",
       "    .dataframe tbody tr th:only-of-type {\n",
       "        vertical-align: middle;\n",
       "    }\n",
       "\n",
       "    .dataframe tbody tr th {\n",
       "        vertical-align: top;\n",
       "    }\n",
       "\n",
       "    .dataframe thead th {\n",
       "        text-align: right;\n",
       "    }\n",
       "</style>\n",
       "<table border=\"1\" class=\"dataframe\">\n",
       "  <thead>\n",
       "    <tr style=\"text-align: right;\">\n",
       "      <th></th>\n",
       "      <th>true_label</th>\n",
       "    </tr>\n",
       "  </thead>\n",
       "  <tbody>\n",
       "    <tr>\n",
       "      <th>count</th>\n",
       "      <td>362876.000000</td>\n",
       "    </tr>\n",
       "    <tr>\n",
       "      <th>mean</th>\n",
       "      <td>0.500000</td>\n",
       "    </tr>\n",
       "    <tr>\n",
       "      <th>std</th>\n",
       "      <td>0.500001</td>\n",
       "    </tr>\n",
       "    <tr>\n",
       "      <th>min</th>\n",
       "      <td>0.000000</td>\n",
       "    </tr>\n",
       "    <tr>\n",
       "      <th>25%</th>\n",
       "      <td>0.000000</td>\n",
       "    </tr>\n",
       "    <tr>\n",
       "      <th>50%</th>\n",
       "      <td>0.500000</td>\n",
       "    </tr>\n",
       "    <tr>\n",
       "      <th>75%</th>\n",
       "      <td>1.000000</td>\n",
       "    </tr>\n",
       "    <tr>\n",
       "      <th>max</th>\n",
       "      <td>1.000000</td>\n",
       "    </tr>\n",
       "  </tbody>\n",
       "</table>\n",
       "</div>"
      ],
      "text/plain": [
       "          true_label\n",
       "count  362876.000000\n",
       "mean        0.500000\n",
       "std         0.500001\n",
       "min         0.000000\n",
       "25%         0.000000\n",
       "50%         0.500000\n",
       "75%         1.000000\n",
       "max         1.000000"
      ]
     },
     "execution_count": 5,
     "metadata": {},
     "output_type": "execute_result"
    }
   ],
   "source": [
    "df.describe()"
   ]
  },
  {
   "cell_type": "code",
   "execution_count": 6,
   "metadata": {},
   "outputs": [
    {
     "data": {
      "text/plain": [
       "<Axes: xlabel='true_label', ylabel='count'>"
      ]
     },
     "execution_count": 6,
     "metadata": {},
     "output_type": "execute_result"
    },
    {
     "data": {
      "image/png": "[encoded data removed]",
      "text/plain": [
       "<Figure size 640x480 with 1 Axes>"
      ]
     },
     "metadata": {},
     "output_type": "display_data"
    }
   ],
   "source": [
    "sns.countplot(data=df,x='true_label')"
   ]
  },
  {
   "cell_type": "code",
   "execution_count": 7,
   "metadata": {},
   "outputs": [
    {
     "name": "stdout",
     "output_type": "stream",
     "text": [
      "Total Texts: 362876\n",
      "Human Written Texts: 181438\n",
      "AI Generated Texts: 181438\n"
     ]
    }
   ],
   "source": [
    "print('Total Texts:', df['true_label'].count())\n",
    "print('Human Written Texts:', (df['true_label'] == 0.0).sum())\n",
    "print('AI Generated Texts:', (df['true_label'] == 1.0).sum())\n"
   ]
  },
  {
   "cell_type": "markdown",
   "metadata": {},
   "source": [
    "## **2. Data Preprocessing**"
   ]
  },
  {
   "cell_type": "code",
   "execution_count": 8,
   "metadata": {},
   "outputs": [
    {
     "data": {
      "text/plain": [
       "'in this article the challenge of exploring venus the author suggest that studying venus is a worthy pursuit despite the dangers it presents according to the passage i will explain the reasoning and give explanations as to why he made this statement venus is simple to see from the distant some know it as the evening star but safe vantage point of earth it has proven very challenging place to examine more closely often referred to as earths twin venus is the closest planet to earth in terms of density and size and occasionally the closest in distance too one of the biggest differences is that a thick atmosphere of almost percent carbon dioxide blankets venus with highly corrosive sulfuric acid clouds in venuss atmosphere this has made it seriously challenging to do farther studies on venus humans have sent numerous spacecraft to land on this cloud draped world according to the text each mission was unmanned and for good reason since no spacecraft survived the landing for more than a few hours maybe this issue explains why not a single spaceship has touched down on venus in more than three decades venus can be found very dangerous and very challenging for farther studies but yet scientists are still discussing farther visits to it surface because of the fascination that venus may well once have been the most earthlike planet in our solar system according to the text long ago venus was probably covered largely with oceans and could have supported various forms of life just like earth furthermore venus may be our nearest option for a planetary visit a crucial consideration given the long time frames of space travel the trick really is making such a mission that is both safe and scientifically productive nasa is working on other approaches to studying venus for example some simplified electronics made of silicon carbide have been tested in a chamber simulating the chaos of venuss surface and have lasted for three weeks in these conditions another way scientists are trying to come about is using old technology called mechanical computers according to the text they were made in the s and played an important role in the s during world war modern computers are enormously powerful flexible and quick but tend to be more delicate in extreme physical conditions unlike older technology by comparison systems that use mechanical parts can be made of more resistant to pressure heat and other forces fighting and working to overcome these challenges presented by venus has value not only because of what we gain from the planet itself but also because of the human curiosity will likely lead us into many equally intimidating challenges'"
      ]
     },
     "execution_count": 8,
     "metadata": {},
     "output_type": "execute_result"
    }
   ],
   "source": [
    "df['text'][1]"
   ]
  },
  {
   "cell_type": "code",
   "execution_count": 9,
   "metadata": {},
   "outputs": [],
   "source": [
    "def remove_tags(text):\n",
    "    if not isinstance(text, str):  # text should be a string\n",
    "        text = str(text)\n",
    "    \n",
    "    tags = ['\\n', '\\'']\n",
    "    for tag in tags:\n",
    "        text = text.replace(tag, '')\n",
    "    \n",
    "    return text\n",
    "\n",
    "# Apply the function safely\n",
    "df['text'] = df['text'].apply(remove_tags)"
   ]
  },
  {
   "cell_type": "code",
   "execution_count": 10,
   "metadata": {},
   "outputs": [
    {
     "data": {
      "text/plain": [
       "'in this article the challenge of exploring venus the author suggest that studying venus is a worthy pursuit despite the dangers it presents according to the passage i will explain the reasoning and give explanations as to why he made this statement venus is simple to see from the distant some know it as the evening star but safe vantage point of earth it has proven very challenging place to examine more closely often referred to as earths twin venus is the closest planet to earth in terms of density and size and occasionally the closest in distance too one of the biggest differences is that a thick atmosphere of almost percent carbon dioxide blankets venus with highly corrosive sulfuric acid clouds in venuss atmosphere this has made it seriously challenging to do farther studies on venus humans have sent numerous spacecraft to land on this cloud draped world according to the text each mission was unmanned and for good reason since no spacecraft survived the landing for more than a few hours maybe this issue explains why not a single spaceship has touched down on venus in more than three decades venus can be found very dangerous and very challenging for farther studies but yet scientists are still discussing farther visits to it surface because of the fascination that venus may well once have been the most earthlike planet in our solar system according to the text long ago venus was probably covered largely with oceans and could have supported various forms of life just like earth furthermore venus may be our nearest option for a planetary visit a crucial consideration given the long time frames of space travel the trick really is making such a mission that is both safe and scientifically productive nasa is working on other approaches to studying venus for example some simplified electronics made of silicon carbide have been tested in a chamber simulating the chaos of venuss surface and have lasted for three weeks in these conditions another way scientists are trying to come about is using old technology called mechanical computers according to the text they were made in the s and played an important role in the s during world war modern computers are enormously powerful flexible and quick but tend to be more delicate in extreme physical conditions unlike older technology by comparison systems that use mechanical parts can be made of more resistant to pressure heat and other forces fighting and working to overcome these challenges presented by venus has value not only because of what we gain from the planet itself but also because of the human curiosity will likely lead us into many equally intimidating challenges'"
      ]
     },
     "execution_count": 10,
     "metadata": {},
     "output_type": "execute_result"
    }
   ],
   "source": [
    "df['text'][1]"
   ]
  },
  {
   "cell_type": "code",
   "execution_count": 11,
   "metadata": {},
   "outputs": [],
   "source": [
    "import string"
   ]
  },
  {
   "cell_type": "code",
   "execution_count": 12,
   "metadata": {},
   "outputs": [
    {
     "data": {
      "text/plain": [
       "'!\"#$%&\\'()*+,-./:;<=>?@[\\\\]^_`{|}~'"
      ]
     },
     "execution_count": 12,
     "metadata": {},
     "output_type": "execute_result"
    }
   ],
   "source": [
    "string.punctuation"
   ]
  },
  {
   "cell_type": "code",
   "execution_count": 13,
   "metadata": {},
   "outputs": [],
   "source": [
    "def remove_punc(text):\n",
    "    new_text = [x for x in text if x not in string.punctuation]\n",
    "    new_text = ''.join(new_text)\n",
    "    return new_text\n",
    "\n",
    "df['text']=df['text'].apply(remove_punc)"
   ]
  },
  {
   "cell_type": "code",
   "execution_count": 14,
   "metadata": {},
   "outputs": [
    {
     "data": {
      "text/plain": [
       "'in this article the challenge of exploring venus the author suggest that studying venus is a worthy pursuit despite the dangers it presents according to the passage i will explain the reasoning and give explanations as to why he made this statement venus is simple to see from the distant some know it as the evening star but safe vantage point of earth it has proven very challenging place to examine more closely often referred to as earths twin venus is the closest planet to earth in terms of density and size and occasionally the closest in distance too one of the biggest differences is that a thick atmosphere of almost percent carbon dioxide blankets venus with highly corrosive sulfuric acid clouds in venuss atmosphere this has made it seriously challenging to do farther studies on venus humans have sent numerous spacecraft to land on this cloud draped world according to the text each mission was unmanned and for good reason since no spacecraft survived the landing for more than a few hours maybe this issue explains why not a single spaceship has touched down on venus in more than three decades venus can be found very dangerous and very challenging for farther studies but yet scientists are still discussing farther visits to it surface because of the fascination that venus may well once have been the most earthlike planet in our solar system according to the text long ago venus was probably covered largely with oceans and could have supported various forms of life just like earth furthermore venus may be our nearest option for a planetary visit a crucial consideration given the long time frames of space travel the trick really is making such a mission that is both safe and scientifically productive nasa is working on other approaches to studying venus for example some simplified electronics made of silicon carbide have been tested in a chamber simulating the chaos of venuss surface and have lasted for three weeks in these conditions another way scientists are trying to come about is using old technology called mechanical computers according to the text they were made in the s and played an important role in the s during world war modern computers are enormously powerful flexible and quick but tend to be more delicate in extreme physical conditions unlike older technology by comparison systems that use mechanical parts can be made of more resistant to pressure heat and other forces fighting and working to overcome these challenges presented by venus has value not only because of what we gain from the planet itself but also because of the human curiosity will likely lead us into many equally intimidating challenges'"
      ]
     },
     "execution_count": 14,
     "metadata": {},
     "output_type": "execute_result"
    }
   ],
   "source": [
    " df['text'][1]"
   ]
  },
  {
   "cell_type": "markdown",
   "metadata": {},
   "source": [
    "## **3. Spell Check - Process**"
   ]
  },
  {
   "cell_type": "code",
   "execution_count": 15,
   "metadata": {},
   "outputs": [
    {
     "name": "stderr",
     "output_type": "stream",
     "text": [
      "[nltk_data] Downloading package words to C:\\Users\\Daniella Kim N.\n",
      "[nltk_data]     Nilo\\AppData\\Roaming\\nltk_data...\n",
      "[nltk_data]   Package words is already up-to-date!\n"
     ]
    }
   ],
   "source": [
    "import nltk\n",
    "from nltk.corpus import words\n",
    "\n",
    "nltk.download('words')\n",
    "english_words = set(words.words())\n",
    "\n",
    "def is_spelled_correctly(word):\n",
    "    return word in english_words"
   ]
  },
  {
   "cell_type": "code",
   "execution_count": 16,
   "metadata": {},
   "outputs": [
    {
     "name": "stdout",
     "output_type": "stream",
     "text": [
      "The word 'in the article the challenge of exploring venus the author suggest that venus is worthy of being studied despite the dangers that it presents us humans have landed on the moon and sent and landed covers on mass why not try and land a jove on venus the author does a good job of supporting hishe claim that we should go to and study venus more by talking about how it may well once been the most deathlike planet in out solar system sending blimplike vehicles to hover above the surface and testing that nasa has done venus may well once been the most deathlike planet in out solar system in the article the author states the planet has a surface of rocky sediment and includes features such as valleys mountains and craters the author says in paragraph is long ago venus was probably covered largely with oceans and could have supported various forms of life just like earth the authors means that since venus has all of these terrains that are similar to earth that it may have had liquid water on the surface and the light temperatures to support life in the next paragraphs the author talks about imagining sending a blimplike vehicle to venus to hover around miles above the surface like how out jet planes fly at a higher altitude to avoid flying in storms towajds the end of paragraph it states that the temperatures would still be toasty at around degrees fahrenheit but the aij pressure would be close to that of sea level on earth this shows that if we use the light materials we could fly the blimplike aircraft and study how the aij pressure is and the exact degrees the atmosphere would be lastly the author explains on how the testing that nasa has done in the text the author says nasa is working on other approaches to studying venus some simplified electjonicsmade of silicon carbide have been tested simulating the chaos of venuss surface and have lasted for three weeks in such conditions this shows that the author is getting information from a reliable source nasa the author also dives deeper and talks about how another project is looking back to an old technology called mechanical computers and that they can resist physical conditions better than modern computers in conclusion the author did a great job saying that venus is worthy of studying even though the dangers that it presents to us hehe supported that idea well with seasons like how venus may well once been the most deathlike planet in out solar system saying that earlier in venuss lifetime that it was probably covered in water and supported various lifeforms another season was to imagine sending a blimplike spacecraft to hover miles above the surface o venus and lastly the test that nasa has been doing to spacecrafts to withstand venuss surface for at least three weeks this are good seasons to back up the claim that the author has made' is spelled incorrectly.\n"
     ]
    }
   ],
   "source": [
    "word_to_check = df['text'][9]\n",
    "if is_spelled_correctly(word_to_check):\n",
    "    print(f\"The word '{word_to_check}' is spelled correctly.\")\n",
    "else:\n",
    "    print(f\"The word '{word_to_check}' is spelled incorrectly.\")"
   ]
  },
  {
   "cell_type": "code",
   "execution_count": 17,
   "metadata": {},
   "outputs": [
    {
     "data": {
      "text/plain": [
       "'in the article the challenge of exploring venus the author suggest that venus is worthy of being studied despite the dangers that it presents us humans have landed on the moon and sent and landed covers on mass why not try and land a jove on venus the author does a good job of supporting hishe claim that we should go to and study venus more by talking about how it may well once been the most deathlike planet in out solar system sending blimplike vehicles to hover above the surface and testing that nasa has done venus may well once been the most deathlike planet in out solar system in the article the author states the planet has a surface of rocky sediment and includes features such as valleys mountains and craters the author says in paragraph is long ago venus was probably covered largely with oceans and could have supported various forms of life just like earth the authors means that since venus has all of these terrains that are similar to earth that it may have had liquid water on the surface and the light temperatures to support life in the next paragraphs the author talks about imagining sending a blimplike vehicle to venus to hover around miles above the surface like how out jet planes fly at a higher altitude to avoid flying in storms towajds the end of paragraph it states that the temperatures would still be toasty at around degrees fahrenheit but the aij pressure would be close to that of sea level on earth this shows that if we use the light materials we could fly the blimplike aircraft and study how the aij pressure is and the exact degrees the atmosphere would be lastly the author explains on how the testing that nasa has done in the text the author says nasa is working on other approaches to studying venus some simplified electjonicsmade of silicon carbide have been tested simulating the chaos of venuss surface and have lasted for three weeks in such conditions this shows that the author is getting information from a reliable source nasa the author also dives deeper and talks about how another project is looking back to an old technology called mechanical computers and that they can resist physical conditions better than modern computers in conclusion the author did a great job saying that venus is worthy of studying even though the dangers that it presents to us hehe supported that idea well with seasons like how venus may well once been the most deathlike planet in out solar system saying that earlier in venuss lifetime that it was probably covered in water and supported various lifeforms another season was to imagine sending a blimplike spacecraft to hover miles above the surface o venus and lastly the test that nasa has been doing to spacecrafts to withstand venuss surface for at least three weeks this are good seasons to back up the claim that the author has made'"
      ]
     },
     "execution_count": 17,
     "metadata": {},
     "output_type": "execute_result"
    }
   ],
   "source": [
    "df['text'][9]"
   ]
  },
  {
   "cell_type": "code",
   "execution_count": 18,
   "metadata": {},
   "outputs": [],
   "source": [
    "#import nltk\n",
    "#from nltk.tok enize import word_tokenize, sent_tokenize\n",
    "#from nltk.stem import PorterStemmer\n",
    "\n",
    "#def correct_text(text):\n",
    " #   stemmer = PorterStemmer()\n",
    "  #  english_words = set(words.words())\n",
    "   # list_text = word_tokenize(text.lower())\n",
    "    #stemmed_words = [stemmer.stem(word) for word in list_text]\n",
    "    #for word in stemmed_words:\n",
    "     #   if word not in english_words:\n",
    "      #    return word\n",
    "\n",
    "#correct_text(df['text'][0])\n",
    "    "
   ]
  },
  {
   "cell_type": "markdown",
   "metadata": {},
   "source": [
    "## **4. Removal of Stop Words**"
   ]
  },
  {
   "cell_type": "code",
   "execution_count": 19,
   "metadata": {},
   "outputs": [
    {
     "name": "stderr",
     "output_type": "stream",
     "text": [
      "[nltk_data] Downloading package stopwords to C:\\Users\\Daniella Kim N.\n",
      "[nltk_data]     Nilo\\AppData\\Roaming\\nltk_data...\n",
      "[nltk_data]   Package stopwords is already up-to-date!\n"
     ]
    }
   ],
   "source": [
    "from nltk.corpus import stopwords\n",
    "nltk.download('stopwords')\n",
    "\n",
    "def remove_stopwords(text):\n",
    "    stop_words = set(stopwords.words('english'))\n",
    "    words = nltk.word_tokenize(text)\n",
    "    filtered_words = [word for word in words if word.lower() not in stop_words]\n",
    "    filtered_words= ' '.join(filtered_words)\n",
    "    return filtered_words\n",
    "\n",
    "df['text']=df['text'].apply(remove_stopwords)\n"
   ]
  },
  {
   "cell_type": "code",
   "execution_count": 20,
   "metadata": {},
   "outputs": [
    {
     "data": {
      "text/plain": [
       "'article challenge exploring venus author suggest studying venus worthy pursuit despite dangers presents according passage explain reasoning give explanations made statement venus simple see distant know evening star safe vantage point earth proven challenging place examine closely often referred earths twin venus closest planet earth terms density size occasionally closest distance one biggest differences thick atmosphere almost percent carbon dioxide blankets venus highly corrosive sulfuric acid clouds venuss atmosphere made seriously challenging farther studies venus humans sent numerous spacecraft land cloud draped world according text mission unmanned good reason since spacecraft survived landing hours maybe issue explains single spaceship touched venus three decades venus found dangerous challenging farther studies yet scientists still discussing farther visits surface fascination venus may well earthlike planet solar system according text long ago venus probably covered largely oceans could supported various forms life like earth furthermore venus may nearest option planetary visit crucial consideration given long time frames space travel trick really making mission safe scientifically productive nasa working approaches studying venus example simplified electronics made silicon carbide tested chamber simulating chaos venuss surface lasted three weeks conditions another way scientists trying come using old technology called mechanical computers according text made played important role world war modern computers enormously powerful flexible quick tend delicate extreme physical conditions unlike older technology comparison systems use mechanical parts made resistant pressure heat forces fighting working overcome challenges presented venus value gain planet also human curiosity likely lead us many equally intimidating challenges'"
      ]
     },
     "execution_count": 20,
     "metadata": {},
     "output_type": "execute_result"
    }
   ],
   "source": [
    "df['text'][1]"
   ]
  },
  {
   "cell_type": "markdown",
   "metadata": {},
   "source": [
    "## **5. Reddit Data Mix**"
   ]
  },
  {
   "cell_type": "code",
   "execution_count": 21,
   "metadata": {},
   "outputs": [
    {
     "name": "stdout",
     "output_type": "stream",
     "text": [
      "                                                text  classification\n",
      "0  family mormon have never tried explain them th...             0.0\n",
      "1  buddhism has very much lot compatible with chr...             0.0\n",
      "2  seriously don say thing first all they won get...             0.0\n",
      "3  what you have learned yours and only yours wha...             0.0\n",
      "4  for your own benefit you may want read living ...             0.0\n"
     ]
    }
   ],
   "source": [
    "# Load the Reddit dataset\n",
    "reddit_data = pd.read_csv(\"Reddit_Cleaned_Classified.csv\") \n",
    "\n",
    "# Display the first few rows\n",
    "print(reddit_data.head())"
   ]
  },
  {
   "cell_type": "code",
   "execution_count": 22,
   "metadata": {},
   "outputs": [
    {
     "name": "stdout",
     "output_type": "stream",
     "text": [
      "                                                text  true_label\n",
      "0  family mormon have never tried explain them th...         0.0\n",
      "1  buddhism has very much lot compatible with chr...         0.0\n",
      "2  seriously don say thing first all they won get...         0.0\n",
      "3  what you have learned yours and only yours wha...         0.0\n",
      "4  for your own benefit you may want read living ...         0.0\n"
     ]
    }
   ],
   "source": [
    "# Rename 'classification' column to 'true_label'\n",
    "reddit_data = reddit_data.rename(columns={\"classification\": \"true_label\"})\n",
    "\n",
    "# Display the first few rows to verify changes\n",
    "print(reddit_data.head())"
   ]
  },
  {
   "cell_type": "code",
   "execution_count": 23,
   "metadata": {},
   "outputs": [
    {
     "name": "stdout",
     "output_type": "stream",
     "text": [
      "249\n"
     ]
    }
   ],
   "source": [
    "# Check for missing values in the 'text' column\n",
    "print(reddit_data['text'].isnull().sum())"
   ]
  },
  {
   "cell_type": "code",
   "execution_count": 24,
   "metadata": {},
   "outputs": [],
   "source": [
    "# Drop rows with missing values in the 'text' column\n",
    "reddit_data = reddit_data.dropna(subset=['text'])"
   ]
  },
  {
   "cell_type": "code",
   "execution_count": 25,
   "metadata": {},
   "outputs": [
    {
     "name": "stdout",
     "output_type": "stream",
     "text": [
      "0\n"
     ]
    }
   ],
   "source": [
    "# Check for missing values again\n",
    "print(reddit_data['text'].isnull().sum())"
   ]
  },
  {
   "cell_type": "code",
   "execution_count": 26,
   "metadata": {},
   "outputs": [],
   "source": [
    "# Merge both datasets\n",
    "df = pd.concat([df, reddit_data], ignore_index=True)"
   ]
  },
  {
   "cell_type": "code",
   "execution_count": 27,
   "metadata": {},
   "outputs": [
    {
     "name": "stdout",
     "output_type": "stream",
     "text": [
      "Dataset structure after merging:\n",
      "<class 'pandas.core.frame.DataFrame'>\n",
      "RangeIndex: 399776 entries, 0 to 399775\n",
      "Data columns (total 2 columns):\n",
      " #   Column      Non-Null Count   Dtype  \n",
      "---  ------      --------------   -----  \n",
      " 0   text        399776 non-null  object \n",
      " 1   true_label  399776 non-null  float64\n",
      "dtypes: float64(1), object(1)\n",
      "memory usage: 6.1+ MB\n",
      "None\n"
     ]
    }
   ],
   "source": [
    "# Verify new dataset structure\n",
    "print(\"Dataset structure after merging:\")\n",
    "print(df.info())"
   ]
  },
  {
   "cell_type": "code",
   "execution_count": 28,
   "metadata": {},
   "outputs": [
    {
     "name": "stdout",
     "output_type": "stream",
     "text": [
      "Class distribution after merging:\n",
      "true_label\n",
      "0.0    218338\n",
      "1.0    181438\n",
      "Name: count, dtype: int64\n"
     ]
    }
   ],
   "source": [
    "# Check class distribution\n",
    "print(\"Class distribution after merging:\")\n",
    "print(df['true_label'].value_counts())"
   ]
  },
  {
   "cell_type": "code",
   "execution_count": 29,
   "metadata": {},
   "outputs": [],
   "source": [
    "# Separate AI and human texts\n",
    "human_texts = df[df['true_label'] == 0]\n",
    "ai_texts = df[df['true_label'] == 1]\n",
    "\n",
    "# Downsample human texts to match AI texts\n",
    "human_texts_balanced = resample(human_texts, replace=False, n_samples=len(ai_texts), random_state=42)\n",
    "\n",
    "# Combine balanced dataset\n",
    "df = pd.concat([human_texts_balanced, ai_texts])"
   ]
  },
  {
   "cell_type": "code",
   "execution_count": 30,
   "metadata": {},
   "outputs": [
    {
     "name": "stdout",
     "output_type": "stream",
     "text": [
      "Final balanced dataset shape: (362876, 2)\n",
      "Final class distribution:\n",
      "true_label\n",
      "0.0    181438\n",
      "1.0    181438\n",
      "Name: count, dtype: int64\n"
     ]
    }
   ],
   "source": [
    "# Verify final balance\n",
    "print(\"Final balanced dataset shape:\", df.shape)\n",
    "print(\"Final class distribution:\")\n",
    "print(df['true_label'].value_counts())"
   ]
  },
  {
   "cell_type": "markdown",
   "metadata": {},
   "source": [
    "## **6. Dataset Splitting (Train and Test Sets)**"
   ]
  },
  {
   "cell_type": "code",
   "execution_count": 31,
   "metadata": {},
   "outputs": [],
   "source": [
    "y=df['true_label']\n",
    "X=df['text']"
   ]
  },
  {
   "cell_type": "code",
   "execution_count": 32,
   "metadata": {},
   "outputs": [],
   "source": [
    "from sklearn.model_selection import train_test_split\n",
    "X_train, X_test, y_train, y_test = train_test_split(X,y,test_size=0.3,random_state=42)"
   ]
  },
  {
   "cell_type": "code",
   "execution_count": 33,
   "metadata": {},
   "outputs": [
    {
     "name": "stdout",
     "output_type": "stream",
     "text": [
      "Training set size: 254013\n",
      "Testing set size: 108863\n"
     ]
    }
   ],
   "source": [
    "print(\"Training set size:\", len(X_train))\n",
    "print(\"Testing set size:\", len(X_test))"
   ]
  },
  {
   "cell_type": "markdown",
   "metadata": {},
   "source": [
    "## **7. Model Training**"
   ]
  },
  {
   "cell_type": "code",
   "execution_count": 34,
   "metadata": {},
   "outputs": [],
   "source": [
    "from sklearn.pipeline import Pipeline\n",
    "from sklearn.feature_extraction.text import CountVectorizer, TfidfTransformer\n",
    "from sklearn.naive_bayes import MultinomialNB\n",
    "from sklearn.svm import SVC"
   ]
  },
  {
   "cell_type": "code",
   "execution_count": 35,
   "metadata": {},
   "outputs": [],
   "source": [
    "from sklearn.preprocessing import StandardScaler\n",
    "# Update the pipeline with StandardScaler\n",
    "pipeline = Pipeline([\n",
    "    ('count_vectorizer', CountVectorizer()),  # CountVectorizer\n",
    "    ('tfidf_transformer', TfidfTransformer()),  # TF-IDF Transformer\n",
    "    ('naive_bayes', MultinomialNB())])"
   ]
  },
  {
   "cell_type": "code",
   "execution_count": 36,
   "metadata": {},
   "outputs": [
    {
     "data": {
      "text/html": [
       "<style>#sk-container-id-1 {color: black;}#sk-container-id-1 pre{padding: 0;}#sk-container-id-1 div.sk-toggleable {background-color: white;}#sk-container-id-1 label.sk-toggleable__label {cursor: pointer;display: block;width: 100%;margin-bottom: 0;padding: 0.3em;box-sizing: border-box;text-align: center;}#sk-container-id-1 label.sk-toggleable__label-arrow:before {content: \"▸\";float: left;margin-right: 0.25em;color: #696969;}#sk-container-id-1 label.sk-toggleable__label-arrow:hover:before {color: black;}#sk-container-id-1 div.sk-estimator:hover label.sk-toggleable__label-arrow:before {color: black;}#sk-container-id-1 div.sk-toggleable__content {max-height: 0;max-width: 0;overflow: hidden;text-align: left;background-color: #f0f8ff;}#sk-container-id-1 div.sk-toggleable__content pre {margin: 0.2em;color: black;border-radius: 0.25em;background-color: #f0f8ff;}#sk-container-id-1 input.sk-toggleable__control:checked~div.sk-toggleable__content {max-height: 200px;max-width: 100%;overflow: auto;}#sk-container-id-1 input.sk-toggleable__control:checked~label.sk-toggleable__label-arrow:before {content: \"▾\";}#sk-container-id-1 div.sk-estimator input.sk-toggleable__control:checked~label.sk-toggleable__label {background-color: #d4ebff;}#sk-container-id-1 div.sk-label input.sk-toggleable__control:checked~label.sk-toggleable__label {background-color: #d4ebff;}#sk-container-id-1 input.sk-hidden--visually {border: 0;clip: rect(1px 1px 1px 1px);clip: rect(1px, 1px, 1px, 1px);height: 1px;margin: -1px;overflow: hidden;padding: 0;position: absolute;width: 1px;}#sk-container-id-1 div.sk-estimator {font-family: monospace;background-color: #f0f8ff;border: 1px dotted black;border-radius: 0.25em;box-sizing: border-box;margin-bottom: 0.5em;}#sk-container-id-1 div.sk-estimator:hover {background-color: #d4ebff;}#sk-container-id-1 div.sk-parallel-item::after {content: \"\";width: 100%;border-bottom: 1px solid gray;flex-grow: 1;}#sk-container-id-1 div.sk-label:hover label.sk-toggleable__label {background-color: #d4ebff;}#sk-container-id-1 div.sk-serial::before {content: \"\";position: absolute;border-left: 1px solid gray;box-sizing: border-box;top: 0;bottom: 0;left: 50%;z-index: 0;}#sk-container-id-1 div.sk-serial {display: flex;flex-direction: column;align-items: center;background-color: white;padding-right: 0.2em;padding-left: 0.2em;position: relative;}#sk-container-id-1 div.sk-item {position: relative;z-index: 1;}#sk-container-id-1 div.sk-parallel {display: flex;align-items: stretch;justify-content: center;background-color: white;position: relative;}#sk-container-id-1 div.sk-item::before, #sk-container-id-1 div.sk-parallel-item::before {content: \"\";position: absolute;border-left: 1px solid gray;box-sizing: border-box;top: 0;bottom: 0;left: 50%;z-index: -1;}#sk-container-id-1 div.sk-parallel-item {display: flex;flex-direction: column;z-index: 1;position: relative;background-color: white;}#sk-container-id-1 div.sk-parallel-item:first-child::after {align-self: flex-end;width: 50%;}#sk-container-id-1 div.sk-parallel-item:last-child::after {align-self: flex-start;width: 50%;}#sk-container-id-1 div.sk-parallel-item:only-child::after {width: 0;}#sk-container-id-1 div.sk-dashed-wrapped {border: 1px dashed gray;margin: 0 0.4em 0.5em 0.4em;box-sizing: border-box;padding-bottom: 0.4em;background-color: white;}#sk-container-id-1 div.sk-label label {font-family: monospace;font-weight: bold;display: inline-block;line-height: 1.2em;}#sk-container-id-1 div.sk-label-container {text-align: center;}#sk-container-id-1 div.sk-container {/* jupyter's `normalize.less` sets `[hidden] { display: none; }` but bootstrap.min.css set `[hidden] { display: none !important; }` so we also need the `!important` here to be able to override the default hidden behavior on the sphinx rendered scikit-learn.org. See: https://github.com/scikit-learn/scikit-learn/issues/21755 */display: inline-block !important;position: relative;}#sk-container-id-1 div.sk-text-repr-fallback {display: none;}</style><div id=\"sk-container-id-1\" class=\"sk-top-container\"><div class=\"sk-text-repr-fallback\"><pre>Pipeline(steps=[(&#x27;count_vectorizer&#x27;, CountVectorizer()),\n",
       "                (&#x27;tfidf_transformer&#x27;, TfidfTransformer()),\n",
       "                (&#x27;naive_bayes&#x27;, MultinomialNB())])</pre><b>In a Jupyter environment, please rerun this cell to show the HTML representation or trust the notebook. <br />On GitHub, the HTML representation is unable to render, please try loading this page with nbviewer.org.</b></div><div class=\"sk-container\" hidden><div class=\"sk-item sk-dashed-wrapped\"><div class=\"sk-label-container\"><div class=\"sk-label sk-toggleable\"><input class=\"sk-toggleable__control sk-hidden--visually\" id=\"sk-estimator-id-1\" type=\"checkbox\" ><label for=\"sk-estimator-id-1\" class=\"sk-toggleable__label sk-toggleable__label-arrow\">Pipeline</label><div class=\"sk-toggleable__content\"><pre>Pipeline(steps=[(&#x27;count_vectorizer&#x27;, CountVectorizer()),\n",
       "                (&#x27;tfidf_transformer&#x27;, TfidfTransformer()),\n",
       "                (&#x27;naive_bayes&#x27;, MultinomialNB())])</pre></div></div></div><div class=\"sk-serial\"><div class=\"sk-item\"><div class=\"sk-estimator sk-toggleable\"><input class=\"sk-toggleable__control sk-hidden--visually\" id=\"sk-estimator-id-2\" type=\"checkbox\" ><label for=\"sk-estimator-id-2\" class=\"sk-toggleable__label sk-toggleable__label-arrow\">CountVectorizer</label><div class=\"sk-toggleable__content\"><pre>CountVectorizer()</pre></div></div></div><div class=\"sk-item\"><div class=\"sk-estimator sk-toggleable\"><input class=\"sk-toggleable__control sk-hidden--visually\" id=\"sk-estimator-id-3\" type=\"checkbox\" ><label for=\"sk-estimator-id-3\" class=\"sk-toggleable__label sk-toggleable__label-arrow\">TfidfTransformer</label><div class=\"sk-toggleable__content\"><pre>TfidfTransformer()</pre></div></div></div><div class=\"sk-item\"><div class=\"sk-estimator sk-toggleable\"><input class=\"sk-toggleable__control sk-hidden--visually\" id=\"sk-estimator-id-4\" type=\"checkbox\" ><label for=\"sk-estimator-id-4\" class=\"sk-toggleable__label sk-toggleable__label-arrow\">MultinomialNB</label><div class=\"sk-toggleable__content\"><pre>MultinomialNB()</pre></div></div></div></div></div></div></div>"
      ],
      "text/plain": [
       "Pipeline(steps=[('count_vectorizer', CountVectorizer()),\n",
       "                ('tfidf_transformer', TfidfTransformer()),\n",
       "                ('naive_bayes', MultinomialNB())])"
      ]
     },
     "execution_count": 36,
     "metadata": {},
     "output_type": "execute_result"
    }
   ],
   "source": [
    "pipeline.fit(X_train, y_train)"
   ]
  },
  {
   "cell_type": "code",
   "execution_count": 37,
   "metadata": {},
   "outputs": [],
   "source": [
    "y_pred= pipeline.predict(X_test)"
   ]
  },
  {
   "cell_type": "markdown",
   "metadata": {},
   "source": [
    "## **8. Performance Metrics Analysis**"
   ]
  },
  {
   "cell_type": "code",
   "execution_count": 38,
   "metadata": {},
   "outputs": [
    {
     "name": "stdout",
     "output_type": "stream",
     "text": [
      "              precision    recall  f1-score   support\n",
      "\n",
      "         0.0       0.95      0.96      0.96     54290\n",
      "         1.0       0.96      0.95      0.96     54573\n",
      "\n",
      "    accuracy                           0.96    108863\n",
      "   macro avg       0.96      0.96      0.96    108863\n",
      "weighted avg       0.96      0.96      0.96    108863\n",
      "\n"
     ]
    }
   ],
   "source": [
    "from sklearn.metrics import classification_report\n",
    "print(classification_report(y_test,y_pred))"
   ]
  },
  {
   "cell_type": "code",
   "execution_count": 39,
   "metadata": {},
   "outputs": [
    {
     "name": "stdout",
     "output_type": "stream",
     "text": [
      "Variable                Type                    Data/Info\n",
      "---------------------------------------------------------\n",
      "CountVectorizer         type                    <class 'sklearn.feature_e<...>on.text.CountVectorizer'>\n",
      "MultinomialNB           ABCMeta                 <class 'sklearn.naive_bayes.MultinomialNB'>\n",
      "Pipeline                ABCMeta                 <class 'sklearn.pipeline.Pipeline'>\n",
      "SVC                     ABCMeta                 <class 'sklearn.svm._classes.SVC'>\n",
      "StandardScaler          type                    <class 'sklearn.preproces<...>ng._data.StandardScaler'>\n",
      "TfidfTransformer        type                    <class 'sklearn.feature_e<...>n.text.TfidfTransformer'>\n",
      "X                       Series                  101378    dear mrmrs flor<...>th: 362876, dtype: object\n",
      "X_test                  Series                  383552    went india like<...>th: 108863, dtype: object\n",
      "X_train                 Series                  303616    dear senator wr<...>th: 254013, dtype: object\n",
      "ai_texts                DataFrame                                        <...>[181438 rows x 2 columns]\n",
      "classification_report   function                <function classification_<...>rt at 0x00000235273A5B20>\n",
      "df                      DataFrame                                        <...>[362876 rows x 2 columns]\n",
      "english_words           set                     {'Marcionite', 'fitters',<...>inimally', 'pseudosophy'}\n",
      "gdown                   module                  <module 'gdown' from 'C:\\<...>ges\\\\gdown\\\\__init__.py'>\n",
      "human_texts             DataFrame                                        <...>[218338 rows x 2 columns]\n",
      "human_texts_balanced    DataFrame                                        <...>[181438 rows x 2 columns]\n",
      "is_spelled_correctly    function                <function is_spelled_corr<...>ly at 0x0000023527C52CA0>\n",
      "nltk                    module                  <module 'nltk' from 'C:\\\\<...>ages\\\\nltk\\\\__init__.py'>\n",
      "np                      module                  <module 'numpy' from 'C:\\<...>ges\\\\numpy\\\\__init__.py'>\n",
      "pd                      module                  <module 'pandas' from 'C:<...>es\\\\pandas\\\\__init__.py'>\n",
      "pipeline                Pipeline                Pipeline(steps=[('count_v<...>ayes', MultinomialNB())])\n",
      "reddit_data             DataFrame                                        <...>n[36900 rows x 2 columns]\n",
      "remove_punc             function                <function remove_punc at 0x00000235267C3A60>\n",
      "remove_stopwords        function                <function remove_stopwords at 0x0000023527CDBEC0>\n",
      "remove_tags             function                <function remove_tags at 0x00000235267C3100>\n",
      "resample                function                <function resample at 0x0000023526636480>\n",
      "sns                     module                  <module 'seaborn' from 'C<...>s\\\\seaborn\\\\__init__.py'>\n",
      "stopwords               WordListCorpusReader    <WordListCorpusReader in <...>ata\\\\corpora\\\\stopwords'>\n",
      "string                  module                  <module 'string' from 'C:<...>aconda3\\\\Lib\\\\string.py'>\n",
      "train_test_split        function                <function train_test_split at 0x00000235273F3C40>\n",
      "word_to_check           str                     in the article the challe<...> that the author has made\n",
      "words                   WordListCorpusReader    <WordListCorpusReader in <...>tk_data\\\\corpora\\\\words'>\n",
      "y                       Series                  101378    0.0\\n22138     <...>h: 362876, dtype: float64\n",
      "y_pred                  ndarray                 108863: 108863 elems, type `float64`, 870904 bytes (850.4921875 kb)\n",
      "y_test                  Series                  383552    0.0\\n25665     <...>h: 108863, dtype: float64\n",
      "y_train                 Series                  303616    1.0\\n88805     <...>h: 254013, dtype: float64\n"
     ]
    }
   ],
   "source": [
    "%whos"
   ]
  },
  {
   "cell_type": "code",
   "execution_count": 40,
   "metadata": {},
   "outputs": [
    {
     "name": "stdout",
     "output_type": "stream",
     "text": [
      "Model saved successfully!\n"
     ]
    }
   ],
   "source": [
    "import joblib\n",
    "\n",
    "# Save the trained pipeline model\n",
    "joblib.dump(pipeline, 'ai_detection_pipeline3-final.pkl')\n",
    "\n",
    "print(\"Model saved successfully!\")"
   ]
  },
  {
   "cell_type": "markdown",
   "metadata": {},
   "source": [
    "## **9. Reddit Testing Phase**"
   ]
  },
  {
   "cell_type": "code",
   "execution_count": 41,
   "metadata": {},
   "outputs": [
    {
     "name": "stdout",
     "output_type": "stream",
     "text": [
      "The Reddit post is predicted to be human-written.\n"
     ]
    }
   ],
   "source": [
    "# Example Reddit post (you can replace this with an actual Reddit post)\n",
    "reddit_post = \"\"\"\n",
    "That's true. But especially for romance, a lot of it comes down to audience overlap. As a straight man, I'm going to skip over a lot of romance books with an \"ab heavy\" cover since I know it's not what I'm looking for. Not a value judgment, just I know it's catering to other tastes.\n",
    "\n",
    "There is a subreddit for r/Romance_for_Men specifically for romance for (usually straight) male readers, and I'm sure there are specific romance subgenres for different LGBT+ groups\n",
    "\"\"\"\n",
    "\n",
    "# Preprocess the Reddit post (same steps as the training data)\n",
    "reddit_post = remove_tags(reddit_post)\n",
    "reddit_post = remove_punc(reddit_post)\n",
    "reddit_post = remove_stopwords(reddit_post)\n",
    "\n",
    "# Predict using the trained model\n",
    "prediction = pipeline.predict([reddit_post])\n",
    "\n",
    "# Output the prediction\n",
    "if prediction[0] == 0.0:\n",
    "    print(\"The Reddit post is predicted to be human-written.\")\n",
    "else:\n",
    "    print(\"The Reddit post is predicted to be AI-generated.\")"
   ]
  },
  {
   "cell_type": "code",
   "execution_count": 42,
   "metadata": {},
   "outputs": [
    {
     "name": "stdout",
     "output_type": "stream",
     "text": [
      "Probability of being AI-generated: 32.10%\n",
      "Probability of being human-written: 67.90%\n"
     ]
    }
   ],
   "source": [
    "# Predict probabilities instead of class labels\n",
    "probabilities = pipeline.predict_proba([reddit_post])\n",
    "\n",
    "# Extract the probability of the text being AI-generated (class 1.0)\n",
    "ai_probability = probabilities[0][1]  # P(AI)\n",
    "human_probability = probabilities[0][0]  # P(human)\n",
    "\n",
    "# Output the results\n",
    "print(f\"Probability of being AI-generated: {ai_probability * 100:.2f}%\")\n",
    "print(f\"Probability of being human-written: {human_probability * 100:.2f}%\")"
   ]
  },
  {
   "cell_type": "code",
   "execution_count": null,
   "metadata": {},
   "outputs": [],
   "source": []
  }
 ],
 "metadata": {
  "kaggle": {
   "accelerator": "none",
   "dataSources": [
    {
     "datasetId": 4288635,
     "sourceId": 7379779,
     "sourceType": "datasetVersion"
    }
   ],
   "dockerImageVersionId": 30646,
   "isGpuEnabled": false,
   "isInternetEnabled": false,
   "language": "python",
   "sourceType": "notebook"
  },
  "kernelspec": {
   "display_name": "Python 3 (ipykernel)",
   "language": "python",
   "name": "python3"
  },
  "language_info": {
   "codemirror_mode": {
    "name": "ipython",
    "version": 3
   },
   "file_extension": ".py",
   "mimetype": "text/x-python",
   "name": "python",
   "nbconvert_exporter": "python",
   "pygments_lexer": "ipython3",
   "version": "3.11.5"
  }
 },
 "nbformat": 4,
 "nbformat_minor": 4
}
